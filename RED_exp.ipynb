{
  "nbformat": 4,
  "nbformat_minor": 0,
  "metadata": {
    "colab": {
      "provenance": [],
      "authorship_tag": "ABX9TyPRNESTzs2xFqsBrwyX2E5w",
      "include_colab_link": true
    },
    "kernelspec": {
      "name": "python3",
      "display_name": "Python 3"
    },
    "language_info": {
      "name": "python"
    }
  },
  "cells": [
    {
      "cell_type": "markdown",
      "metadata": {
        "id": "view-in-github",
        "colab_type": "text"
      },
      "source": [
        "<a href=\"https://colab.research.google.com/github/Jeremy-22/Red-Neuronal/blob/RED-SECUENCIAL/RED_exp.ipynb\" target=\"_parent\"><img src=\"https://colab.research.google.com/assets/colab-badge.svg\" alt=\"Open In Colab\"/></a>"
      ]
    },
    {
      "cell_type": "code",
      "execution_count": 4,
      "metadata": {
        "colab": {
          "base_uri": "https://localhost:8080/"
        },
        "id": "DI_ksU57YMlR",
        "outputId": "affea417-c230-451f-e282-7991b1d3144a"
      },
      "outputs": [
        {
          "output_type": "stream",
          "name": "stdout",
          "text": [
            "\u001b[2K     \u001b[90m━━━━━━━━━━━━━━━━━━━━━━━━━━━━━━━━━━━━━━━━\u001b[0m \u001b[32m19.5/19.5 MB\u001b[0m \u001b[31m35.8 MB/s\u001b[0m eta \u001b[36m0:00:00\u001b[0m\n",
            "\u001b[2K     \u001b[90m━━━━━━━━━━━━━━━━━━━━━━━━━━━━━━━━━━━━━━━━\u001b[0m \u001b[32m196.4/196.4 kB\u001b[0m \u001b[31m23.7 MB/s\u001b[0m eta \u001b[36m0:00:00\u001b[0m\n",
            "\u001b[2K     \u001b[90m━━━━━━━━━━━━━━━━━━━━━━━━━━━━━━━━━━━━━━━━\u001b[0m \u001b[32m233.4/233.4 kB\u001b[0m \u001b[31m28.5 MB/s\u001b[0m eta \u001b[36m0:00:00\u001b[0m\n",
            "\u001b[2K     \u001b[90m━━━━━━━━━━━━━━━━━━━━━━━━━━━━━━━━━━━━━━━━\u001b[0m \u001b[32m147.6/147.6 kB\u001b[0m \u001b[31m16.7 MB/s\u001b[0m eta \u001b[36m0:00:00\u001b[0m\n",
            "\u001b[2K     \u001b[90m━━━━━━━━━━━━━━━━━━━━━━━━━━━━━━━━━━━━━━━━\u001b[0m \u001b[32m80.2/80.2 kB\u001b[0m \u001b[31m11.9 MB/s\u001b[0m eta \u001b[36m0:00:00\u001b[0m\n",
            "\u001b[2K     \u001b[90m━━━━━━━━━━━━━━━━━━━━━━━━━━━━━━━━━━━━━━━━\u001b[0m \u001b[32m78.7/78.7 kB\u001b[0m \u001b[31m11.5 MB/s\u001b[0m eta \u001b[36m0:00:00\u001b[0m\n",
            "\u001b[2K     \u001b[90m━━━━━━━━━━━━━━━━━━━━━━━━━━━━━━━━━━━━━━━━\u001b[0m \u001b[32m62.7/62.7 kB\u001b[0m \u001b[31m8.6 MB/s\u001b[0m eta \u001b[36m0:00:00\u001b[0m\n",
            "\u001b[?25h"
          ]
        }
      ],
      "source": [
        "%pip install -q mlflow"
      ]
    },
    {
      "cell_type": "code",
      "source": [
        "import mlflow\n",
        "mlflow.tensorflow.autolog()"
      ],
      "metadata": {
        "id": "NpsWHFaqe-R5"
      },
      "execution_count": 5,
      "outputs": []
    },
    {
      "cell_type": "code",
      "source": [
        "import tensorflow as tf\n",
        "from tensorflow import keras\n",
        "from tensorflow.keras.datasets import mnist\n",
        "from tensorflow.keras.models import Sequential\n",
        "from tensorflow.keras.optimizers import RMSprop, SGD, Adam, Adamax\n",
        "from tensorflow.keras.layers import Dense, Activation"
      ],
      "metadata": {
        "id": "B2A6DhwvfLWF"
      },
      "execution_count": 12,
      "outputs": []
    },
    {
      "cell_type": "code",
      "source": [
        "dataset= mnist.load_data()"
      ],
      "metadata": {
        "colab": {
          "base_uri": "https://localhost:8080/"
        },
        "id": "wd-1EKYZfZ08",
        "outputId": "c51e16dd-998f-44fb-bb3a-90bf47503c2b"
      },
      "execution_count": 13,
      "outputs": [
        {
          "output_type": "stream",
          "name": "stdout",
          "text": [
            "Downloading data from https://storage.googleapis.com/tensorflow/tf-keras-datasets/mnist.npz\n",
            "11490434/11490434 [==============================] - 0s 0us/step\n"
          ]
        }
      ]
    },
    {
      "cell_type": "code",
      "source": [
        "(x_train, y_train), (x_test, y_test) = dataset"
      ],
      "metadata": {
        "id": "uEaiEz5HgJ1W"
      },
      "execution_count": 14,
      "outputs": []
    },
    {
      "cell_type": "code",
      "source": [
        "x_trainv = x_train.reshape(60000, 784)\n",
        "x_testv = x_test.reshape(10000, 784)\n",
        "x_trainv = x_trainv.astype(\"float32\")\n",
        "x_testv = x_testv.astype(\"float32\")\n",
        "x_trainv /= 255\n",
        "x_testv /= 255"
      ],
      "metadata": {
        "id": "kLSnbHUogP9u"
      },
      "execution_count": 17,
      "outputs": []
    },
    {
      "cell_type": "code",
      "source": [
        "num_class=10\n",
        "y_trainc = keras.utils.to_categorical(y_train, num_class)\n",
        "y_testc = keras.utils.to_categorical(y_test, num_class)"
      ],
      "metadata": {
        "id": "rv9BALovgwTr"
      },
      "execution_count": 18,
      "outputs": []
    },
    {
      "cell_type": "code",
      "source": [
        "model = Sequential()\n",
        "model.add(Dense(800, activation=\"sigmoid\", input_shape=(784,)))\n",
        "model.add(Dense(400, activation=\"sigmoid\"))\n",
        "model.add(Dense(200, activation=\"relu\"))\n",
        "model.add(Dense(50, activation=\"gelu\"))\n",
        "model.add(Dense(10, activation=\"softmax\"))"
      ],
      "metadata": {
        "id": "_3BXfzG8hR_0"
      },
      "execution_count": 21,
      "outputs": []
    },
    {
      "cell_type": "code",
      "source": [
        "model.compile(loss='categorical_crossentropy', optimizer=RMSprop(), metrics=['accuracy'])"
      ],
      "metadata": {
        "id": "-3LfCkUVj_A4"
      },
      "execution_count": 28,
      "outputs": []
    },
    {
      "cell_type": "code",
      "source": [
        "history = model.fit(x_trainv, y_trainc,\n",
        "                    batch_size=10,\n",
        "                    epochs=10,\n",
        "                    verbose=1,\n",
        "                    validation_data=(x_testv, y_testc)\n",
        "                    )"
      ],
      "metadata": {
        "colab": {
          "base_uri": "https://localhost:8080/"
        },
        "id": "5twcuLbmjyvj",
        "outputId": "6c53780c-9b48-4c21-864c-362cc8c45b21"
      },
      "execution_count": 29,
      "outputs": [
        {
          "output_type": "stream",
          "name": "stderr",
          "text": [
            "2024/02/15 06:59:48 INFO mlflow.utils.autologging_utils: Created MLflow autologging run with ID '1cbe555b45864ad39173161fc8e4e157', which will track hyperparameters, performance metrics, model artifacts, and lineage information for the current tensorflow workflow\n"
          ]
        },
        {
          "output_type": "stream",
          "name": "stdout",
          "text": [
            "Epoch 1/10\n",
            "6000/6000 [==============================] - 80s 13ms/step - loss: 0.3767 - accuracy: 0.8826 - val_loss: 0.1902 - val_accuracy: 0.9458\n",
            "Epoch 2/10\n",
            "6000/6000 [==============================] - 106s 18ms/step - loss: 0.1970 - accuracy: 0.9486 - val_loss: 0.1803 - val_accuracy: 0.9561\n",
            "Epoch 3/10\n",
            "6000/6000 [==============================] - 70s 12ms/step - loss: 0.1742 - accuracy: 0.9586 - val_loss: 0.1941 - val_accuracy: 0.9563\n",
            "Epoch 4/10\n",
            "6000/6000 [==============================] - 72s 12ms/step - loss: 0.1567 - accuracy: 0.9650 - val_loss: 0.1932 - val_accuracy: 0.9591\n",
            "Epoch 5/10\n",
            "6000/6000 [==============================] - 79s 13ms/step - loss: 0.1421 - accuracy: 0.9694 - val_loss: 0.2593 - val_accuracy: 0.9549\n",
            "Epoch 6/10\n",
            "6000/6000 [==============================] - 75s 12ms/step - loss: 0.1388 - accuracy: 0.9716 - val_loss: 0.1727 - val_accuracy: 0.9725\n",
            "Epoch 7/10\n",
            "6000/6000 [==============================] - 73s 12ms/step - loss: 0.1293 - accuracy: 0.9738 - val_loss: 0.2741 - val_accuracy: 0.9630\n",
            "Epoch 8/10\n",
            "6000/6000 [==============================] - 108s 18ms/step - loss: 0.1349 - accuracy: 0.9750 - val_loss: 0.2204 - val_accuracy: 0.9737\n",
            "Epoch 9/10\n",
            "6000/6000 [==============================] - 90s 15ms/step - loss: 0.1361 - accuracy: 0.9763 - val_loss: 0.2315 - val_accuracy: 0.9650\n",
            "Epoch 10/10\n",
            "6000/6000 [==============================] - 91s 15ms/step - loss: 0.1287 - accuracy: 0.9765 - val_loss: 0.2413 - val_accuracy: 0.9543\n",
            "1/1 [==============================] - 0s 118ms/step\n"
          ]
        },
        {
          "output_type": "stream",
          "name": "stderr",
          "text": [
            "2024/02/15 07:14:23 WARNING mlflow.utils.autologging_utils: MLflow autologging encountered a warning: \"/usr/local/lib/python3.10/dist-packages/_distutils_hack/__init__.py:33: UserWarning: Setuptools is replacing distutils.\"\n"
          ]
        }
      ]
    },
    {
      "cell_type": "code",
      "source": [
        "import matplotlib.pyplot as plt"
      ],
      "metadata": {
        "id": "t5NCWShwjq7z"
      },
      "execution_count": 30,
      "outputs": []
    },
    {
      "cell_type": "code",
      "source": [
        "plt.plot(history.history['loss'])\n",
        "plt.plot(history.history['val_loss'])"
      ],
      "metadata": {
        "colab": {
          "base_uri": "https://localhost:8080/",
          "height": 447
        },
        "id": "kuxP5gFrkbMJ",
        "outputId": "1532682e-1e55-4fcc-fda5-cd9cc8ab4438"
      },
      "execution_count": 31,
      "outputs": [
        {
          "output_type": "execute_result",
          "data": {
            "text/plain": [
              "[<matplotlib.lines.Line2D at 0x78057af222c0>]"
            ]
          },
          "metadata": {},
          "execution_count": 31
        },
        {
          "output_type": "display_data",
          "data": {
            "text/plain": [
              "<Figure size 640x480 with 1 Axes>"
            ],
            "image/png": "[encoded data removed]"
          },
          "metadata": {}
        }
      ]
    },
    {
      "cell_type": "code",
      "source": [
        "model.save('model_exp1.h5')"
      ],
      "metadata": {
        "colab": {
          "base_uri": "https://localhost:8080/"
        },
        "id": "QhQKZcxflmlE",
        "outputId": "65276906-c55d-4ed3-ea35-87e776e9e58d"
      },
      "execution_count": 32,
      "outputs": [
        {
          "output_type": "stream",
          "name": "stderr",
          "text": [
            "/usr/local/lib/python3.10/dist-packages/keras/src/engine/training.py:3103: UserWarning: You are saving your model as an HDF5 file via `model.save()`. This file format is considered legacy. We recommend using instead the native Keras format, e.g. `model.save('my_model.keras')`.\n",
            "  saving_api.save_model(\n"
          ]
        }
      ]
    },
    {
      "cell_type": "code",
      "source": [
        "model2 = Sequential()\n",
        "model2.add(Dense(400, activation='sigmoid', input_shape=(784,)))\n",
        "model2.add(Dense(200, activation='tanh'))\n",
        "model2.add(Dense(100, activation='relu'))\n",
        "model2.add(Dense(50, activation='leaky_relu'))\n",
        "model2.add(Dense(10, activation='sigmoid'))"
      ],
      "metadata": {
        "id": "P1hT8w3Nl12w"
      },
      "execution_count": 43,
      "outputs": []
    },
    {
      "cell_type": "code",
      "source": [
        "model.compile(loss='binary_crossentropy', optimizer=Adam(), metrics=['accuracy'])"
      ],
      "metadata": {
        "id": "yfp8GPConPlU"
      },
      "execution_count": 41,
      "outputs": []
    },
    {
      "cell_type": "code",
      "source": [
        "history = model.fit(x_trainv, y_trainc,\n",
        "                    batch_size=100,\n",
        "                    epochs=10,\n",
        "                    verbose=1,\n",
        "                    validation_data=(x_testv, y_testc)\n",
        "                    )"
      ],
      "metadata": {
        "colab": {
          "base_uri": "https://localhost:8080/"
        },
        "id": "hK5fGXt2np0T",
        "outputId": "fb42eea4-0c1d-40a7-f01f-1fa37c353a20"
      },
      "execution_count": 44,
      "outputs": [
        {
          "output_type": "stream",
          "name": "stderr",
          "text": [
            "2024/02/15 07:18:42 INFO mlflow.utils.autologging_utils: Created MLflow autologging run with ID '1e684a9ceb8c42f98803b3ecc26523a5', which will track hyperparameters, performance metrics, model artifacts, and lineage information for the current tensorflow workflow\n"
          ]
        },
        {
          "output_type": "stream",
          "name": "stdout",
          "text": [
            "Epoch 1/10\n",
            "600/600 [==============================] - 15s 24ms/step - loss: 0.2164 - accuracy: 0.5222 - val_loss: 0.1386 - val_accuracy: 0.7648\n",
            "Epoch 2/10\n",
            "600/600 [==============================] - 13s 22ms/step - loss: 0.0960 - accuracy: 0.8598 - val_loss: 0.0729 - val_accuracy: 0.8932\n",
            "Epoch 3/10\n",
            "600/600 [==============================] - 14s 24ms/step - loss: 0.0516 - accuracy: 0.9789 - val_loss: 0.0513 - val_accuracy: 0.9746\n",
            "Epoch 4/10\n",
            "600/600 [==============================] - 14s 23ms/step - loss: 0.0283 - accuracy: 0.9885 - val_loss: 0.0304 - val_accuracy: 0.9781\n",
            "Epoch 5/10\n",
            "600/600 [==============================] - 14s 23ms/step - loss: 0.0114 - accuracy: 0.9917 - val_loss: 0.0241 - val_accuracy: 0.9821\n",
            "Epoch 6/10\n",
            "600/600 [==============================] - 23s 39ms/step - loss: 0.0075 - accuracy: 0.9931 - val_loss: 0.0261 - val_accuracy: 0.9784\n",
            "Epoch 7/10\n",
            "600/600 [==============================] - 21s 35ms/step - loss: 0.0058 - accuracy: 0.9941 - val_loss: 0.0283 - val_accuracy: 0.9799\n",
            "Epoch 8/10\n",
            "600/600 [==============================] - 18s 30ms/step - loss: 0.0049 - accuracy: 0.9943 - val_loss: 0.0235 - val_accuracy: 0.9814\n",
            "Epoch 9/10\n",
            "600/600 [==============================] - 17s 28ms/step - loss: 0.0035 - accuracy: 0.9961 - val_loss: 0.0237 - val_accuracy: 0.9818\n",
            "Epoch 10/10\n",
            "600/600 [==============================] - 19s 32ms/step - loss: 0.0031 - accuracy: 0.9962 - val_loss: 0.0288 - val_accuracy: 0.9815\n",
            "1/1 [==============================] - 0s 248ms/step\n"
          ]
        }
      ]
    },
    {
      "cell_type": "code",
      "source": [
        "plt.plot(history.history['loss'])\n",
        "plt.plot(history.history['val_loss'])"
      ],
      "metadata": {
        "colab": {
          "base_uri": "https://localhost:8080/",
          "height": 447
        },
        "id": "GaFO6lDyn7aL",
        "outputId": "836b6ee9-dd46-4748-dbb7-202e537cff78"
      },
      "execution_count": 45,
      "outputs": [
        {
          "output_type": "execute_result",
          "data": {
            "text/plain": [
              "[<matplotlib.lines.Line2D at 0x780578283bb0>]"
            ]
          },
          "metadata": {},
          "execution_count": 45
        },
        {
          "output_type": "display_data",
          "data": {
            "text/plain": [
              "<Figure size 640x480 with 1 Axes>"
            ],
            "image/png": "[encoded data removed]"
          },
          "metadata": {}
        }
      ]
    },
    {
      "cell_type": "code",
      "source": [
        "model2.save('model_exp2.h5')"
      ],
      "metadata": {
        "colab": {
          "base_uri": "https://localhost:8080/"
        },
        "id": "Ry77--9Zo6rY",
        "outputId": "41fb6e73-5889-433e-d69a-f97b64defbc3"
      },
      "execution_count": 63,
      "outputs": [
        {
          "output_type": "stream",
          "name": "stderr",
          "text": [
            "/usr/local/lib/python3.10/dist-packages/keras/src/engine/training.py:3103: UserWarning: You are saving your model as an HDF5 file via `model.save()`. This file format is considered legacy. We recommend using instead the native Keras format, e.g. `model.save('my_model.keras')`.\n",
            "  saving_api.save_model(\n",
            "WARNING:tensorflow:Compiled the loaded model, but the compiled metrics have yet to be built. `model.compile_metrics` will be empty until you train or evaluate the model.\n"
          ]
        }
      ]
    },
    {
      "cell_type": "code",
      "source": [
        "model3 = Sequential()\n",
        "model.add(Dense(600, activation='tanh', input_shape=(784,)))\n",
        "model3.add(Dense(200, activation='sigmoid'))\n",
        "model3.add(Dense(100, activation='leaky_relu'))\n",
        "model3.add(Dense(50, activation = 'relu'))\n",
        "model3.add(Dense(10, activation='softmax'))"
      ],
      "metadata": {
        "id": "INyu3dD2o_qh"
      },
      "execution_count": 64,
      "outputs": []
    },
    {
      "cell_type": "code",
      "source": [
        "model3.compile(loss='binary_crossentropy', optimizer=RMSprop(), metrics=['accuracy'])"
      ],
      "metadata": {
        "id": "GD-sILZTpzL6"
      },
      "execution_count": 69,
      "outputs": []
    },
    {
      "cell_type": "code",
      "source": [
        "history = model3.fit(x_trainv, y_trainc,\n",
        "                    batch_size=100,\n",
        "                    epochs=10,\n",
        "                    verbose=1,\n",
        "                    validation_data=(x_testv, y_testc)\n",
        "                    )"
      ],
      "metadata": {
        "colab": {
          "base_uri": "https://localhost:8080/"
        },
        "id": "JaZWCJDzrLWz",
        "outputId": "9088f382-20cc-4c4a-e0ee-213f6b1f89a7"
      },
      "execution_count": 70,
      "outputs": [
        {
          "output_type": "stream",
          "name": "stderr",
          "text": [
            "2024/02/15 07:33:45 INFO mlflow.utils.autologging_utils: Created MLflow autologging run with ID '45ec42ea6000406490dd1249b0dba2ec', which will track hyperparameters, performance metrics, model artifacts, and lineage information for the current tensorflow workflow\n"
          ]
        },
        {
          "output_type": "stream",
          "name": "stdout",
          "text": [
            "Epoch 1/10\n",
            "600/600 [==============================] - 4s 6ms/step - loss: 0.0952 - accuracy: 0.8572 - val_loss: 0.0560 - val_accuracy: 0.9127\n",
            "Epoch 2/10\n",
            "600/600 [==============================] - 4s 6ms/step - loss: 0.0502 - accuracy: 0.9199 - val_loss: 0.0415 - val_accuracy: 0.9323\n",
            "Epoch 3/10\n",
            "600/600 [==============================] - 4s 7ms/step - loss: 0.0385 - accuracy: 0.9377 - val_loss: 0.0353 - val_accuracy: 0.9444\n",
            "Epoch 4/10\n",
            "600/600 [==============================] - 4s 6ms/step - loss: 0.0315 - accuracy: 0.9494 - val_loss: 0.0299 - val_accuracy: 0.9522\n",
            "Epoch 5/10\n",
            "600/600 [==============================] - 4s 6ms/step - loss: 0.0266 - accuracy: 0.9571 - val_loss: 0.0256 - val_accuracy: 0.9577\n",
            "Epoch 6/10\n",
            "600/600 [==============================] - 4s 7ms/step - loss: 0.0228 - accuracy: 0.9631 - val_loss: 0.0221 - val_accuracy: 0.9643\n",
            "Epoch 7/10\n",
            "600/600 [==============================] - 4s 7ms/step - loss: 0.0199 - accuracy: 0.9684 - val_loss: 0.0202 - val_accuracy: 0.9668\n",
            "Epoch 8/10\n",
            "600/600 [==============================] - 4s 6ms/step - loss: 0.0175 - accuracy: 0.9723 - val_loss: 0.0194 - val_accuracy: 0.9670\n",
            "Epoch 9/10\n",
            "600/600 [==============================] - 4s 7ms/step - loss: 0.0156 - accuracy: 0.9754 - val_loss: 0.0178 - val_accuracy: 0.9702\n",
            "Epoch 10/10\n",
            "600/600 [==============================] - 4s 7ms/step - loss: 0.0138 - accuracy: 0.9784 - val_loss: 0.0175 - val_accuracy: 0.9703\n",
            "1/1 [==============================] - 0s 71ms/step\n"
          ]
        }
      ]
    },
    {
      "cell_type": "code",
      "source": [
        "plt.plot(history.history['loss'])\n",
        "plt.plot(history.history['val_loss'])"
      ],
      "metadata": {
        "colab": {
          "base_uri": "https://localhost:8080/",
          "height": 447
        },
        "id": "3S0GmGoNq3j_",
        "outputId": "1ac2d270-19db-4f41-93e7-fdf186f540f7"
      },
      "execution_count": 71,
      "outputs": [
        {
          "output_type": "execute_result",
          "data": {
            "text/plain": [
              "[<matplotlib.lines.Line2D at 0x78058b413640>]"
            ]
          },
          "metadata": {},
          "execution_count": 71
        },
        {
          "output_type": "display_data",
          "data": {
            "text/plain": [
              "<Figure size 640x480 with 1 Axes>"
            ],
            "image/png": "[encoded data removed]"
          },
          "metadata": {}
        }
      ]
    },
    {
      "cell_type": "code",
      "source": [
        "model3.save('model_exp3.h5')"
      ],
      "metadata": {
        "colab": {
          "base_uri": "https://localhost:8080/"
        },
        "id": "KXFmhV89ruCj",
        "outputId": "c02bdda2-ced7-4dcd-db6c-ec2974f30bdc"
      },
      "execution_count": 72,
      "outputs": [
        {
          "output_type": "stream",
          "name": "stderr",
          "text": [
            "/usr/local/lib/python3.10/dist-packages/keras/src/engine/training.py:3103: UserWarning: You are saving your model as an HDF5 file via `model.save()`. This file format is considered legacy. We recommend using instead the native Keras format, e.g. `model.save('my_model.keras')`.\n",
            "  saving_api.save_model(\n"
          ]
        }
      ]
    }
  ]
}