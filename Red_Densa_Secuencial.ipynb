{
  "nbformat": 4,
  "nbformat_minor": 0,
  "metadata": {
    "colab": {
      "provenance": [],
      "authorship_tag": "ABX9TyNLFsn/pPyng5hZQf8gmgBw",
      "include_colab_link": true
    },
    "kernelspec": {
      "name": "python3",
      "display_name": "Python 3"
    },
    "language_info": {
      "name": "python"
    }
  },
  "cells": [
    {
      "cell_type": "markdown",
      "metadata": {
        "id": "view-in-github",
        "colab_type": "text"
      },
      "source": [
        "<a href=\"https://colab.research.google.com/github/Jeremy-22/Red-Neuronal/blob/main/Red_Densa_Secuencial.ipynb\" target=\"_parent\"><img src=\"https://colab.research.google.com/assets/colab-badge.svg\" alt=\"Open In Colab\"/></a>"
      ]
    },
    {
      "cell_type": "code",
      "execution_count": 1,
      "metadata": {
        "colab": {
          "base_uri": "https://localhost:8080/"
        },
        "id": "wGAOUnTSBCAg",
        "outputId": "f76f3cf0-08b1-4c08-a975-27beac054b36"
      },
      "outputs": [
        {
          "output_type": "stream",
          "name": "stdout",
          "text": [
            "\u001b[2K     \u001b[90m━━━━━━━━━━━━━━━━━━━━━━━━━━━━━━━━━━━━━━━━\u001b[0m \u001b[32m19.5/19.5 MB\u001b[0m \u001b[31m44.2 MB/s\u001b[0m eta \u001b[36m0:00:00\u001b[0m\n",
            "\u001b[2K     \u001b[90m━━━━━━━━━━━━━━━━━━━━━━━━━━━━━━━━━━━━━━━━\u001b[0m \u001b[32m196.4/196.4 kB\u001b[0m \u001b[31m23.0 MB/s\u001b[0m eta \u001b[36m0:00:00\u001b[0m\n",
            "\u001b[2K     \u001b[90m━━━━━━━━━━━━━━━━━━━━━━━━━━━━━━━━━━━━━━━━\u001b[0m \u001b[32m233.4/233.4 kB\u001b[0m \u001b[31m13.3 MB/s\u001b[0m eta \u001b[36m0:00:00\u001b[0m\n",
            "\u001b[2K     \u001b[90m━━━━━━━━━━━━━━━━━━━━━━━━━━━━━━━━━━━━━━━━\u001b[0m \u001b[32m147.6/147.6 kB\u001b[0m \u001b[31m15.5 MB/s\u001b[0m eta \u001b[36m0:00:00\u001b[0m\n",
            "\u001b[2K     \u001b[90m━━━━━━━━━━━━━━━━━━━━━━━━━━━━━━━━━━━━━━━━\u001b[0m \u001b[32m80.2/80.2 kB\u001b[0m \u001b[31m5.7 MB/s\u001b[0m eta \u001b[36m0:00:00\u001b[0m\n",
            "\u001b[2K     \u001b[90m━━━━━━━━━━━━━━━━━━━━━━━━━━━━━━━━━━━━━━━━\u001b[0m \u001b[32m78.7/78.7 kB\u001b[0m \u001b[31m10.1 MB/s\u001b[0m eta \u001b[36m0:00:00\u001b[0m\n",
            "\u001b[2K     \u001b[90m━━━━━━━━━━━━━━━━━━━━━━━━━━━━━━━━━━━━━━━━\u001b[0m \u001b[32m62.7/62.7 kB\u001b[0m \u001b[31m4.7 MB/s\u001b[0m eta \u001b[36m0:00:00\u001b[0m\n",
            "\u001b[?25h"
          ]
        }
      ],
      "source": [
        "%pip install -q mlflow"
      ]
    },
    {
      "cell_type": "code",
      "source": [
        "import mlflow\n",
        "mlflow.tensorflow.autolog()"
      ],
      "metadata": {
        "id": "usSo5-KFBZI5"
      },
      "execution_count": 2,
      "outputs": []
    },
    {
      "cell_type": "code",
      "source": [
        "import tensorflow as tf\n",
        "from tensorflow import keras\n",
        "from tensorflow.keras.datasets import mnist\n",
        "from tensorflow.keras.models import Sequential\n",
        "from tensorflow.keras.layers import Dense, Dropout, Activation\n",
        "from tensorflow.keras.optimizers import SGD, RMSprop"
      ],
      "metadata": {
        "id": "zAjHipqCBkqC"
      },
      "execution_count": 3,
      "outputs": []
    },
    {
      "cell_type": "code",
      "source": [
        "dataset=mnist.load_data()"
      ],
      "metadata": {
        "colab": {
          "base_uri": "https://localhost:8080/"
        },
        "id": "yD5oO6iWBwtO",
        "outputId": "8f9241fa-4a93-4766-cdc2-c19737d9a110"
      },
      "execution_count": 4,
      "outputs": [
        {
          "output_type": "stream",
          "name": "stdout",
          "text": [
            "Downloading data from https://storage.googleapis.com/tensorflow/tf-keras-datasets/mnist.npz\n",
            "11490434/11490434 [==============================] - 0s 0us/step\n"
          ]
        }
      ]
    },
    {
      "cell_type": "code",
      "source": [
        "(x_train, y_train),(x_test, y_test) = dataset"
      ],
      "metadata": {
        "id": "8vcqn55OCBSH"
      },
      "execution_count": 29,
      "outputs": []
    },
    {
      "cell_type": "code",
      "source": [
        "x_trainv = x_train.reshape(60000, 784) #redimensionamos los datos a una matriz con 60000 filas  y cada imagen se convertirá en un vector unidimensional de longitud 784\n",
        "x_testv  = x_test.reshape(10000, 784)\n",
        "x_trainv = x_trainv.astype(\"float32\")\n",
        "x_testv  = x_testv.astype(\"float32\")\n",
        "x_trainv /= 255\n",
        "x_testv  /=255"
      ],
      "metadata": {
        "id": "CTJ4zEmXCOrO"
      },
      "execution_count": 35,
      "outputs": []
    },
    {
      "cell_type": "code",
      "source": [
        "num_classes = 10\n",
        "y_trainc = keras.utils.to_categorical(y_train, num_classes)\n",
        "y_testc = keras.utils.to_categorical(y_test, num_classes)"
      ],
      "metadata": {
        "id": "kQADJSpBDygL"
      },
      "execution_count": 36,
      "outputs": []
    },
    {
      "cell_type": "code",
      "source": [
        "model = Sequential()\n",
        "model.add(Dense(50, activation='sigmoid', input_shape=(784,)))\n",
        "model.add(Dense(10, activation='softmax'))"
      ],
      "metadata": {
        "id": "3RRB4JMTKT9q"
      },
      "execution_count": 37,
      "outputs": []
    },
    {
      "cell_type": "code",
      "source": [
        "optimizer = keras.optimizers.SGD(learning_rate=0.3, momentum=0.9)\n",
        "model.compile(loss='categorical_crossentropy', optimizer=optimizer, metrics=['accuracy'])"
      ],
      "metadata": {
        "id": "hH_3zm6eKrEK"
      },
      "execution_count": 38,
      "outputs": []
    },
    {
      "cell_type": "code",
      "source": [
        "history = model.fit(x_trainv, y_trainc,\n",
        "                    batch_size=10,\n",
        "                    epochs=epochs,\n",
        "                    verbose=1,\n",
        "                    validation_data=(x_testv, y_testc)\n",
        "                    )"
      ],
      "metadata": {
        "colab": {
          "base_uri": "https://localhost:8080/"
        },
        "id": "alAfl9eBNJKe",
        "outputId": "6e9848ef-0930-4973-e8c4-d687e4dc2e20"
      },
      "execution_count": 39,
      "outputs": [
        {
          "output_type": "stream",
          "name": "stderr",
          "text": [
            "2024/02/15 05:43:43 INFO mlflow.utils.autologging_utils: Created MLflow autologging run with ID '53eb814e7504409fb8f47075767d8e18', which will track hyperparameters, performance metrics, model artifacts, and lineage information for the current tensorflow workflow\n"
          ]
        },
        {
          "output_type": "stream",
          "name": "stdout",
          "text": [
            "Epoch 1/30\n",
            "600/600 [==============================] - 3s 4ms/step - loss: 0.3025 - accuracy: 0.9081 - val_loss: 0.1756 - val_accuracy: 0.9448\n",
            "Epoch 2/30\n",
            "600/600 [==============================] - 2s 3ms/step - loss: 0.1416 - accuracy: 0.9578 - val_loss: 0.1246 - val_accuracy: 0.9619\n",
            "Epoch 3/30\n",
            "600/600 [==============================] - 2s 3ms/step - loss: 0.1049 - accuracy: 0.9692 - val_loss: 0.1081 - val_accuracy: 0.9659\n",
            "Epoch 4/30\n",
            "600/600 [==============================] - 2s 3ms/step - loss: 0.0859 - accuracy: 0.9748 - val_loss: 0.0989 - val_accuracy: 0.9699\n",
            "Epoch 5/30\n",
            "600/600 [==============================] - 3s 5ms/step - loss: 0.0736 - accuracy: 0.9777 - val_loss: 0.1000 - val_accuracy: 0.9688\n",
            "Epoch 6/30\n",
            "600/600 [==============================] - 2s 3ms/step - loss: 0.0640 - accuracy: 0.9810 - val_loss: 0.0962 - val_accuracy: 0.9701\n",
            "Epoch 7/30\n",
            "600/600 [==============================] - 2s 3ms/step - loss: 0.0588 - accuracy: 0.9822 - val_loss: 0.0860 - val_accuracy: 0.9733\n",
            "Epoch 8/30\n",
            "600/600 [==============================] - 2s 3ms/step - loss: 0.0498 - accuracy: 0.9851 - val_loss: 0.1043 - val_accuracy: 0.9688\n",
            "Epoch 9/30\n",
            "600/600 [==============================] - 2s 3ms/step - loss: 0.0456 - accuracy: 0.9862 - val_loss: 0.0918 - val_accuracy: 0.9720\n",
            "Epoch 10/30\n",
            "600/600 [==============================] - 2s 3ms/step - loss: 0.0410 - accuracy: 0.9875 - val_loss: 0.0933 - val_accuracy: 0.9713\n",
            "Epoch 11/30\n",
            "600/600 [==============================] - 3s 4ms/step - loss: 0.0370 - accuracy: 0.9890 - val_loss: 0.0975 - val_accuracy: 0.9707\n",
            "Epoch 12/30\n",
            "600/600 [==============================] - 2s 3ms/step - loss: 0.0332 - accuracy: 0.9905 - val_loss: 0.0911 - val_accuracy: 0.9717\n",
            "Epoch 13/30\n",
            "600/600 [==============================] - 2s 3ms/step - loss: 0.0307 - accuracy: 0.9914 - val_loss: 0.0994 - val_accuracy: 0.9711\n",
            "Epoch 14/30\n",
            "600/600 [==============================] - 2s 3ms/step - loss: 0.0272 - accuracy: 0.9925 - val_loss: 0.0920 - val_accuracy: 0.9727\n",
            "Epoch 15/30\n",
            "600/600 [==============================] - 2s 3ms/step - loss: 0.0243 - accuracy: 0.9935 - val_loss: 0.0939 - val_accuracy: 0.9726\n",
            "Epoch 16/30\n",
            "600/600 [==============================] - 2s 3ms/step - loss: 0.0218 - accuracy: 0.9943 - val_loss: 0.0981 - val_accuracy: 0.9710\n",
            "Epoch 17/30\n",
            "600/600 [==============================] - 3s 5ms/step - loss: 0.0205 - accuracy: 0.9948 - val_loss: 0.1028 - val_accuracy: 0.9713\n",
            "Epoch 18/30\n",
            "600/600 [==============================] - 2s 3ms/step - loss: 0.0180 - accuracy: 0.9958 - val_loss: 0.0997 - val_accuracy: 0.9717\n",
            "Epoch 19/30\n",
            "600/600 [==============================] - 2s 3ms/step - loss: 0.0160 - accuracy: 0.9963 - val_loss: 0.1009 - val_accuracy: 0.9717\n",
            "Epoch 20/30\n",
            "600/600 [==============================] - 2s 3ms/step - loss: 0.0144 - accuracy: 0.9970 - val_loss: 0.0975 - val_accuracy: 0.9724\n",
            "Epoch 21/30\n",
            "600/600 [==============================] - 2s 3ms/step - loss: 0.0122 - accuracy: 0.9980 - val_loss: 0.1044 - val_accuracy: 0.9722\n",
            "Epoch 22/30\n",
            "600/600 [==============================] - 2s 3ms/step - loss: 0.0118 - accuracy: 0.9979 - val_loss: 0.0987 - val_accuracy: 0.9741\n",
            "Epoch 23/30\n",
            "600/600 [==============================] - 3s 5ms/step - loss: 0.0105 - accuracy: 0.9984 - val_loss: 0.1023 - val_accuracy: 0.9732\n",
            "Epoch 24/30\n",
            "600/600 [==============================] - 2s 3ms/step - loss: 0.0092 - accuracy: 0.9988 - val_loss: 0.1013 - val_accuracy: 0.9737\n",
            "Epoch 25/30\n",
            "600/600 [==============================] - 2s 3ms/step - loss: 0.0085 - accuracy: 0.9989 - val_loss: 0.1052 - val_accuracy: 0.9717\n",
            "Epoch 26/30\n",
            "600/600 [==============================] - 2s 4ms/step - loss: 0.0078 - accuracy: 0.9992 - val_loss: 0.1011 - val_accuracy: 0.9736\n",
            "Epoch 27/30\n",
            "600/600 [==============================] - 2s 3ms/step - loss: 0.0067 - accuracy: 0.9994 - val_loss: 0.1080 - val_accuracy: 0.9729\n",
            "Epoch 28/30\n",
            "600/600 [==============================] - 2s 3ms/step - loss: 0.0063 - accuracy: 0.9995 - val_loss: 0.1075 - val_accuracy: 0.9729\n",
            "Epoch 29/30\n",
            "600/600 [==============================] - 3s 5ms/step - loss: 0.0057 - accuracy: 0.9996 - val_loss: 0.1075 - val_accuracy: 0.9730\n",
            "Epoch 30/30\n",
            "600/600 [==============================] - 2s 3ms/step - loss: 0.0053 - accuracy: 0.9996 - val_loss: 0.1084 - val_accuracy: 0.9718\n",
            "1/1 [==============================] - 0s 129ms/step\n"
          ]
        },
        {
          "output_type": "stream",
          "name": "stderr",
          "text": [
            "2024/02/15 05:46:24 WARNING mlflow.utils.autologging_utils: MLflow autologging encountered a warning: \"/usr/local/lib/python3.10/dist-packages/_distutils_hack/__init__.py:33: UserWarning: Setuptools is replacing distutils.\"\n"
          ]
        }
      ]
    },
    {
      "cell_type": "code",
      "source": [
        "import matplotlib.pyplot as plt"
      ],
      "metadata": {
        "id": "NEWrA8WJOyBH"
      },
      "execution_count": 40,
      "outputs": []
    },
    {
      "cell_type": "code",
      "source": [
        "plt.plot(history.history['loss'])\n",
        "plt.plot(history.history['val_loss'])"
      ],
      "metadata": {
        "colab": {
          "base_uri": "https://localhost:8080/",
          "height": 447
        },
        "id": "xjo31sPbO5Iu",
        "outputId": "2f77567a-57c5-420a-d8f4-a51950e422fd"
      },
      "execution_count": 41,
      "outputs": [
        {
          "output_type": "execute_result",
          "data": {
            "text/plain": [
              "[<matplotlib.lines.Line2D at 0x7d032855d180>]"
            ]
          },
          "metadata": {},
          "execution_count": 41
        },
        {
          "output_type": "display_data",
          "data": {
            "text/plain": [
              "<Figure size 640x480 with 1 Axes>"
            ],
            "image/png": "[encoded data removed]"
          },
          "metadata": {}
        }
      ]
    },
    {
      "cell_type": "code",
      "source": [
        "plt.plot(history.history['accuracy'])\n",
        "plt.plot(history.history['val_accuracy'])"
      ],
      "metadata": {
        "colab": {
          "base_uri": "https://localhost:8080/",
          "height": 447
        },
        "id": "N-eLdEvtO68S",
        "outputId": "e016428a-d05c-4991-fded-2e17d0454df2"
      },
      "execution_count": 42,
      "outputs": [
        {
          "output_type": "execute_result",
          "data": {
            "text/plain": [
              "[<matplotlib.lines.Line2D at 0x7d0328e82f20>]"
            ]
          },
          "metadata": {},
          "execution_count": 42
        },
        {
          "output_type": "display_data",
          "data": {
            "text/plain": [
              "<Figure size 640x480 with 1 Axes>"
            ],
            "image/png": "[encoded data removed]"
          },
          "metadata": {}
        }
      ]
    },
    {
      "cell_type": "code",
      "source": [
        "model.save('model1.h5')"
      ],
      "metadata": {
        "colab": {
          "base_uri": "https://localhost:8080/"
        },
        "id": "9Bi8AbHqTpk8",
        "outputId": "7fd0b97e-f57d-43fc-f95c-af37e6e6061e"
      },
      "execution_count": 43,
      "outputs": [
        {
          "output_type": "stream",
          "name": "stderr",
          "text": [
            "/usr/local/lib/python3.10/dist-packages/keras/src/engine/training.py:3103: UserWarning: You are saving your model as an HDF5 file via `model.save()`. This file format is considered legacy. We recommend using instead the native Keras format, e.g. `model.save('my_model.keras')`.\n",
            "  saving_api.save_model(\n"
          ]
        }
      ]
    }
  ]
}